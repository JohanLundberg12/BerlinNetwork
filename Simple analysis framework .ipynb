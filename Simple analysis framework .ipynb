{
 "cells": [
  {
   "cell_type": "code",
   "execution_count": 1,
   "metadata": {
    "collapsed": true
   },
   "outputs": [],
   "source": [
    "import numpy as np\n",
    "import pandas as pd\n",
    "import networkx as nx\n",
    "import csv\n",
    "import matplotlib.pyplot as plt"
   ]
  },
  {
   "cell_type": "markdown",
   "metadata": {},
   "source": [
    "# Berlin Center"
   ]
  },
  {
   "cell_type": "code",
   "execution_count": 5,
   "metadata": {
    "collapsed": true
   },
   "outputs": [],
   "source": [
    "my_data = np.genfromtxt('./berlin-center_net.txt', skip_header = 9, comments=\";\")"
   ]
  },
  {
   "cell_type": "code",
   "execution_count": 6,
   "metadata": {
    "collapsed": true
   },
   "outputs": [],
   "source": [
    "with open('berlin_center_edgelist.csv', 'w') as csvfile:\n",
    "    for items in my_data:\n",
    "        csvfile.write(str(items[0]) + \",\" \n",
    "                      + str(items[1]) + \",\"\n",
    "                      + str(items[2]) + \",\" \n",
    "                      + str(items[3]) + \",\"\n",
    "                      + str(items[4]) + \",\" \n",
    "                      + str(items[5]) + \",\"\n",
    "                      + str(items[6]) + \",\" \n",
    "                      + str(items[7]) + \",\"\n",
    "                      + str(items[8]) + \",\"\n",
    "                      + str(items[9]) + \",\" \n",
    "                      + \"\\n\")"
   ]
  },
  {
   "cell_type": "code",
   "execution_count": 7,
   "metadata": {
    "collapsed": true
   },
   "outputs": [],
   "source": [
    "def read_graph(file_path):\n",
    "\n",
    "    g = nx.DiGraph()\n",
    "    file = open(file_path,'r')\n",
    "    \n",
    "    for line in file:\n",
    "        split = line.split(',')\n",
    "        n1 = int(float(split[0].strip()))\n",
    "        n2 = int(float(split[1].strip()))\n",
    "        capacity = float(split[2].strip())\n",
    "        length = float(split[3].strip())\n",
    "        free_flow_time = float(split[4].strip())\n",
    "        b = float(split[5].strip())\n",
    "        power = float(split[6].strip())\n",
    "        speed_limit = float(split[7].strip())\n",
    "        toll = float(split[8].strip())\n",
    "        edge_type = float(split[9].strip())\n",
    "        \n",
    "        if n1 not in g.nodes():\n",
    "            g.add_node(n1, color = 'b', size = 50)\n",
    "        \n",
    "        if n2 not in g.nodes():\n",
    "            g.add_node(n2,color='b', size=50)\n",
    "        \n",
    "        g.add_edge(n1,\n",
    "                   n2,\n",
    "                   capacity=capacity,\n",
    "                   length=length, \n",
    "                   free_flow_time=free_flow_time,\n",
    "                   b=b,\n",
    "                   power=power,\n",
    "                   speed_limit=speed_limit,\n",
    "                   toll=toll,\n",
    "                   edge_type=edge_type)\n",
    "            \n",
    "    file.close()\n",
    "    return g"
   ]
  },
  {
   "cell_type": "code",
   "execution_count": 8,
   "metadata": {
    "collapsed": true
   },
   "outputs": [],
   "source": [
    "berlin_center_g = read_graph(\"berlin_center_edgelist.csv\")"
   ]
  },
  {
   "cell_type": "code",
   "execution_count": 13,
   "metadata": {},
   "outputs": [
    {
     "name": "stdout",
     "output_type": "stream",
     "text": [
      "# of nodes: 12981\n",
      "# of edges: 28370\n",
      "# of selfloops: 0\n",
      "Random cycle in G:\n",
      "[(1, 11000), (11000, 1)]\n",
      "G is a DAG: False\n",
      "G is a tree: False\n",
      "G's density: 0.02%\n",
      "G's reciprocity: 48.64%\n",
      "G's clustering coefficient = 0.21585039033673825\n",
      "G is a strongly connected graph: False\n",
      "G is a weakly connected graph: True\n",
      "# of nodes: 12981\n"
     ]
    }
   ],
   "source": [
    "print(\"# of nodes: %d\" % berlin_center_g.number_of_nodes())\n",
    "print(\"# of edges: %d\" % berlin_center_g.number_of_edges())\n",
    "print(\"# of selfloops: %d\" % berlin_center_g.number_of_selfloops())\n",
    "print(\"Random cycle in G:\")\n",
    "print(nx.find_cycle(berlin_center_g))\n",
    "print(\"G is a DAG: %s\" % nx.is_directed_acyclic_graph(berlin_center_g))\n",
    "print(\"G is a tree: %s\" % nx.is_tree(berlin_center_g))\n",
    "print(\"G's density: %1.2f%%\" % (100 * nx.density(berlin_center_g))) #density = number_of_edges / max_theoretical_number_of_edges\n",
    "print(\"G's reciprocity: %1.2f%%\" % (100 * nx.reciprocity(berlin_center_g))) #Reciprocity: share of connections going both ways in directed graph\n",
    "print(\"G's clustering coefficient = %s\" % nx.transitivity(berlin_center_g))\n",
    "print(\"G is a strongly connected graph: %s\" % nx.is_strongly_connected(berlin_center_g))\n",
    "print(\"G is a weakly connected graph: %s\" % nx.is_weakly_connected(berlin_center_g))\n",
    "\n",
    "g_comps = nx.weakly_connected_components(berlin_center_g)\n",
    "g_comp_nodes = next(g_comps)\n",
    "g_comp = berlin_center_g.subgraph(g_comp_nodes)\n",
    "print(\"# of nodes: %d\" % len(g_comp.nodes()))"
   ]
  },
  {
   "cell_type": "markdown",
   "metadata": {},
   "source": [
    "### Degree Histogram"
   ]
  },
  {
   "cell_type": "code",
   "execution_count": null,
   "metadata": {
    "collapsed": true
   },
   "outputs": [],
   "source": [
    "# Replace \"GRAPH\" with graph of interest throughout.\n",
    "\n",
    "degree_sequence = sorted([d for n, d in GRAPH.degree()], reverse=True)  # degree sequence\n",
    "# print \"Degree sequence\", degree_sequence\n",
    "degreeCount = collections.Counter(degree_sequence)\n",
    "deg, cnt = zip(*degreeCount.items())\n",
    "\n",
    "fig, ax = plt.subplots()\n",
    "plt.bar(deg, cnt, width=0.80, color='b')\n",
    "\n",
    "plt.title(\"Degree Histogram\")\n",
    "plt.ylabel(\"Count\")\n",
    "plt.xlabel(\"Degree\")\n",
    "ax.set_xticks([d + 0.4 for d in deg])\n",
    "ax.set_xticklabels(deg)\n",
    "\n",
    "# draw graph in inset\n",
    "plt.axes([0.4, 0.4, 0.5, 0.5])\n",
    "Gcc = sorted(nx.connected_component_subgraphs(GRAPH), key=len, reverse=True)[0]\n",
    "pos = nx.spring_layout(GRAPH)\n",
    "plt.axis('off')\n",
    "nx.draw_networkx_nodes(GRAPH, pos, node_size=20)\n",
    "nx.draw_networkx_edges(GRAPH, pos, alpha=0.4)\n",
    "\n",
    "plt.show()"
   ]
  },
  {
   "cell_type": "markdown",
   "metadata": {},
   "source": [
    "### Avg Node Connectivity"
   ]
  },
  {
   "cell_type": "code",
   "execution_count": null,
   "metadata": {
    "collapsed": true
   },
   "outputs": [],
   "source": [
    "nx.average_node_connectivity(GRAPH)"
   ]
  }
 ],
 "metadata": {
  "kernelspec": {
   "display_name": "Python 3",
   "language": "python",
   "name": "python3"
  },
  "language_info": {
   "codemirror_mode": {
    "name": "ipython",
    "version": 3
   },
   "file_extension": ".py",
   "mimetype": "text/x-python",
   "name": "python",
   "nbconvert_exporter": "python",
   "pygments_lexer": "ipython3",
   "version": "3.6.2"
  }
 },
 "nbformat": 4,
 "nbformat_minor": 2
}
