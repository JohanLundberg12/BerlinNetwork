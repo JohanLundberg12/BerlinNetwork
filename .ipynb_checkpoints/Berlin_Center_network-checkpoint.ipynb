{
 "cells": [
  {
   "cell_type": "code",
   "execution_count": 58,
   "metadata": {},
   "outputs": [],
   "source": [
    "import networkx as nx\n",
    "import csv\n",
    "import numpy as np\n",
    "from collections import Counter\n",
    "import pandas as pd\n",
    "import matplotlib.pyplot as plt\n",
    "from scipy.stats import linregress\n",
    "import powerlaw \n",
    "\n",
    "plt.rcParams['figure.figsize']=[15,7]"
   ]
  },
  {
   "cell_type": "code",
   "execution_count": 72,
   "metadata": {},
   "outputs": [],
   "source": [
    "my_data = np.genfromtxt('berlin-center_net.txt', skip_header = 9, comments=\";\")"
   ]
  },
  {
   "cell_type": "code",
   "execution_count": 73,
   "metadata": {},
   "outputs": [],
   "source": [
    "with open('berlin_center_edgelist.csv', 'w') as csvfile:\n",
    "    for items in my_data:\n",
    "        csvfile.write(str(items[0]) + \",\" \n",
    "                      + str(items[1]) + \",\"\n",
    "                      + str(items[2]) + \",\" \n",
    "                      + str(items[3]) + \",\"\n",
    "                      + str(items[4]) + \",\" \n",
    "                      + str(items[5]) + \",\"\n",
    "                      + str(items[6]) + \",\" \n",
    "                      + str(items[7]) + \",\"\n",
    "                      + str(items[8]) + \",\"\n",
    "                      + str(items[9]) + \",\" \n",
    "                      + \"\\n\")"
   ]
  },
  {
   "cell_type": "code",
   "execution_count": 76,
   "metadata": {},
   "outputs": [],
   "source": [
    "def read_graph(file_path):\n",
    "\n",
    "    g = nx.DiGraph()\n",
    "    file = open(file_path,'r')\n",
    "    \n",
    "    for line in file:\n",
    "        split = line.split(',')\n",
    "        n1 = int(float(split[0].strip()))\n",
    "        n2 = int(float(split[1].strip()))\n",
    "        capacity = float(split[2].strip())\n",
    "        length = float(split[3].strip())\n",
    "        free_flow_time = float(split[4].strip())\n",
    "        b = float(split[5].strip())\n",
    "        power = float(split[6].strip())\n",
    "        speed_limit = float(split[7].strip())\n",
    "        toll = float(split[8].strip())\n",
    "        edge_type = float(split[9].strip())\n",
    "        \n",
    "        if n1 not in g.nodes():\n",
    "            g.add_node(n1, color = 'b', size = 50)\n",
    "        \n",
    "        if n2 not in g.nodes():\n",
    "            g.add_node(n2,color='b', size=50)\n",
    "        \n",
    "        g.add_edge(n1,\n",
    "                   n2,\n",
    "                   capacity=capacity,\n",
    "                   length=length, \n",
    "                   free_flow_time=free_flow_time,\n",
    "                   b=b,\n",
    "                   power=power,\n",
    "                   speed_limit=speed_limit,\n",
    "                   toll=toll,\n",
    "                   edge_type=edge_type)\n",
    "            \n",
    "    file.close()\n",
    "    return g"
   ]
  },
  {
   "cell_type": "code",
   "execution_count": 78,
   "metadata": {},
   "outputs": [],
   "source": [
    "G = read_graph(\"berlin_center_edgelist.csv\")"
   ]
  },
  {
   "cell_type": "markdown",
   "metadata": {},
   "source": [
    "# Basic Info About G"
   ]
  },
  {
   "cell_type": "code",
   "execution_count": 79,
   "metadata": {},
   "outputs": [
    {
     "name": "stdout",
     "output_type": "stream",
     "text": [
      "# of nodes: 12981\n",
      "# of edges: 28370\n",
      "# of selfloops: 0\n",
      "Cycle in G:\n",
      "[(1, 11000), (11000, 1)]\n",
      "G is a DAG: False\n",
      "G is a tree: False\n"
     ]
    }
   ],
   "source": [
    "print(\"# of nodes: %d\" % G.number_of_nodes())\n",
    "print(\"# of edges: %d\" % G.number_of_edges())\n",
    "print(\"# of selfloops: %d\" % G.number_of_selfloops())\n",
    "print(\"Cycle in G:\")\n",
    "print(nx.find_cycle(G))\n",
    "print(\"G is a DAG: %s\" % nx.is_directed_acyclic_graph(G))\n",
    "print(\"G is a tree: %s\" % nx.is_tree(G))"
   ]
  },
  {
   "cell_type": "code",
   "execution_count": 66,
   "metadata": {},
   "outputs": [
    {
     "name": "stdout",
     "output_type": "stream",
     "text": [
      "G's density: 0.02%\n",
      "G's reciprocity: 48.64%\n",
      "G's clustering coefficient = 0.21585039033673825\n",
      "G is a strongly connected graph: False\n",
      "G is a weakly connected graph: True\n"
     ]
    },
    {
     "data": {
      "text/plain": [
       "12981"
      ]
     },
     "execution_count": 66,
     "metadata": {},
     "output_type": "execute_result"
    }
   ],
   "source": [
    "print(\"G's density: %1.2f%%\" % (100 * nx.density(G))) #density = number_of_edges / max_theoretical_number_of_edges\n",
    "print(\"G's reciprocity: %1.2f%%\" % (100 * nx.reciprocity(G))) #Reciprocity: share of connections going both ways in directed graph\n",
    "print(\"G's clustering coefficient = %s\" % nx.transitivity(G))\n",
    "print(\"G is a strongly connected graph: %s\" % nx.is_strongly_connected(G))\n",
    "print(\"G is a weakly connected graph: %s\" % nx.is_weakly_connected(G))\n",
    "G_comps = nx.weakly_connected_components(G)\n",
    "G_comp_nodes = next(G_comps)\n",
    "G_comp = G.subgraph(G_comp_nodes)\n",
    "len(G_comp)"
   ]
  },
  {
   "cell_type": "markdown",
   "metadata": {},
   "source": [
    "# Degree Analysis"
   ]
  },
  {
   "cell_type": "code",
   "execution_count": 48,
   "metadata": {},
   "outputs": [
    {
     "name": "stdout",
     "output_type": "stream",
     "text": [
      "   k  count      p(k)     log_k  log_p(k)\n",
      "0  1    114  0.008782  0.000000 -2.056403\n",
      "1  2   3589  0.276481  0.301030 -0.558335\n",
      "2  3   1048  0.080733  0.477121 -1.092947\n",
      "3  4   3974  0.306140  0.602060 -0.514080\n",
      "4  5    444  0.034204  0.698970 -1.465925\n"
     ]
    }
   ],
   "source": [
    "degree = nx.degree(G)\n",
    "degree_count = Counter(dict(degree).values())\n",
    "degree_df = pd.DataFrame(list(degree_count.items()), columns = ('k', 'count'))\n",
    "degree_df = degree_df.sort_values(by='k')\n",
    "degree_df['p(k)'] = degree_df['count']/degree_df['count'].sum()\n",
    "degree_df['log_k']= np.log10(degree_df['k'])\n",
    "degree_df['log_p(k)']= np.log10(degree_df['p(k)'])\n",
    "\n",
    "print(degree_df.head())"
   ]
  },
  {
   "cell_type": "code",
   "execution_count": 54,
   "metadata": {},
   "outputs": [
    {
     "data": {
      "image/png": "[encoded data removed]",
      "text/plain": [
       "<matplotlib.figure.Figure at 0x7f4b21068e80>"
      ]
     },
     "metadata": {},
     "output_type": "display_data"
    }
   ],
   "source": [
    "#Plot the PDF on a linear and a logarithmic scale\n",
    "plt.clf()\n",
    "plt.subplot(1,2,1)\n",
    "plt.title('Linear Scale')\n",
    "plt.scatter(degree_df['k'], degree_df['p(k)'])\n",
    "\n",
    "\n",
    "plt.subplot(1,2,2)\n",
    "plt.title('Logarithmic Scale')\n",
    "plt.scatter(degree_df['log_k'], degree_df['log_p(k)']) #Have a thoughtfull look at the x labels (these are powers [2 means 10^2, 3 means 10^3])\n",
    "#another way to plot in the log_log scale without calculating the logs is to do the following\n",
    "#plt.loglog(degree_df['k'], degree_df['p(k)'])\n",
    "\n",
    "plt.show()"
   ]
  },
  {
   "cell_type": "code",
   "execution_count": 55,
   "metadata": {},
   "outputs": [
    {
     "name": "stdout",
     "output_type": "stream",
     "text": [
      "     k  count      p(k)     log_k  log_p(k)  comsum_p(k)  log_comsum_p(k)\n",
      "12  14      1  0.000077  1.146128 -4.113308     0.000077        -4.113308\n",
      "11  12      5  0.000385  1.079181 -3.414338     0.000462        -3.335157\n",
      "10  11      3  0.000231  1.041393 -3.636187     0.000693        -3.159066\n",
      "9   10    972  0.074879  1.000000 -1.125642     0.075572        -1.121639\n",
      "8    9     20  0.001541  0.954243 -2.812278     0.077113        -1.112874\n"
     ]
    }
   ],
   "source": [
    "degree_df = degree_df.sort_values(by='k', ascending=False)\n",
    "degree_df['comsum_p(k)'] = degree_df['p(k)'].cumsum()\n",
    "degree_df['log_comsum_p(k)'] = np.log10(degree_df['comsum_p(k)'])\n",
    "\n",
    "print(degree_df.head())"
   ]
  },
  {
   "cell_type": "code",
   "execution_count": 56,
   "metadata": {},
   "outputs": [
    {
     "data": {
      "image/png": "[encoded data removed]",
      "text/plain": [
       "<matplotlib.figure.Figure at 0x7f4b2156b390>"
      ]
     },
     "metadata": {},
     "output_type": "display_data"
    }
   ],
   "source": [
    "plt.clf()\n",
    "plt.subplot(1,2,1)\n",
    "plt.title(\"Linear Scale\")\n",
    "plt.scatter(degree_df['k'], degree_df['comsum_p(k)'])\n",
    "\n",
    "plt.subplot(1,2,2)\n",
    "plt.title(\"Logarithmic Scale\")\n",
    "plt.scatter(degree_df['log_k'],degree_df['log_comsum_p(k)'])\n",
    "#try also\n",
    "#plt.loglog(degree_df['k'], degree_df['comsum_p(k)'])\n",
    "plt.show()"
   ]
  },
  {
   "cell_type": "code",
   "execution_count": 59,
   "metadata": {},
   "outputs": [
    {
     "name": "stdout",
     "output_type": "stream",
     "text": [
      "-0.75404543337207 0.0029050403570355277\n"
     ]
    }
   ],
   "source": [
    "slope,intercept,r_value,p_value,std_error = linregress(np.log10(degree_df['k']),np.log10(degree_df['comsum_p(k)']))\n",
    "print(r_value,p_value)"
   ]
  },
  {
   "cell_type": "code",
   "execution_count": 60,
   "metadata": {},
   "outputs": [
    {
     "data": {
      "image/png": "[encoded data removed]",
      "text/plain": [
       "<matplotlib.figure.Figure at 0x7f4b20d095f8>"
      ]
     },
     "metadata": {},
     "output_type": "display_data"
    }
   ],
   "source": [
    "#Let us plot both our distribtuion and the straight line returned by the linear regression\n",
    "plt.clf()\n",
    "plt.scatter(degree_df['log_k'],degree_df['log_comsum_p(k)'], label=\"degree distribution\")\n",
    "\n",
    "plt.plot(degree_df['log_k'],intercept+slope*degree_df['log_k'], 'r--', label=\"linear regression fit\")\n",
    "plt.legend()\n",
    "plt.show()\n"
   ]
  },
  {
   "cell_type": "code",
   "execution_count": 63,
   "metadata": {},
   "outputs": [
    {
     "name": "stdout",
     "output_type": "stream",
     "text": [
      "-238.96420429804118 2.927995850082364e-43\n",
      "We cannot rule out an exponential fit. Definitely not a power law.\n"
     ]
    },
    {
     "name": "stderr",
     "output_type": "stream",
     "text": [
      "Calculating best minimal value for power law fit\n",
      "/usr/local/lib/python3.5/dist-packages/powerlaw.py:700: RuntimeWarning: invalid value encountered in true_divide\n",
      "  (Theoretical_CDF * (1 - Theoretical_CDF))\n",
      "/usr/local/lib/python3.5/dist-packages/powerlaw.py:700: RuntimeWarning: divide by zero encountered in true_divide\n",
      "  (Theoretical_CDF * (1 - Theoretical_CDF))\n"
     ]
    }
   ],
   "source": [
    "#Fitting a powelaw using function comparision\n",
    "degrees= sorted(dict(G.degree()).values())\n",
    "\n",
    "results = powerlaw.Fit(degrees, discrete=True)\n",
    "\n",
    "#First check whether power_law or expoenential distribution is preferred, then whether power_law or lognormal is preferred\n",
    "R, p = results.distribution_compare('power_law', 'exponential') #Here we are checking which of those two functions can be a better fit to our distribtuin ('exponential' vs 'power law')\n",
    "print(R, p)\n",
    "if (R > 0) and (p < .05): #[This means that the power law assumption is preffered over the exponential, but still we have to do another test to have our final claim]\n",
    "    R, p = results.distribution_compare('power_law', 'lognormal') #Here we are checking which of those two functions can be a better fit to our distribtuin ('lognormal' vs 'power law')\n",
    "    print(R, p)\n",
    "    if p < .05: #This means that result we get is significant (statistically) and we can trust it.\n",
    "        if R > 0:\n",
    "            print(\"Powerlaw hypothesis preferred (p = %1.4f, CDF exponent = %1.4f)\" % (p, results.power_law.alpha - 1)) # The CDF's alpha is the PMF's alpha minus one. The powerlaw package gives us the PMF's alpha.\n",
    "        else:\n",
    "            print(\"Lognormal hypothesis preferred (p = %1.4f, mu = %1.4f, sigma = %1.4f)\" % (p, results.lognormal.mu, results.lognormal.sigma))\n",
    "    else: #We can not trust the result, and we are not able to differenciate even if R > 0 \n",
    "        print(\"Powerlaw and Lognormal are indistinguishable hypotesis.\")\n",
    "else:\n",
    "    print(\"We cannot rule out an exponential fit. Definitely not a power law.\")\n",
    "\n",
    "        "
   ]
  },
  {
   "cell_type": "code",
   "execution_count": null,
   "metadata": {},
   "outputs": [],
   "source": []
  }
 ],
 "metadata": {
  "kernelspec": {
   "display_name": "Python 3",
   "language": "python",
   "name": "python3"
  },
  "language_info": {
   "codemirror_mode": {
    "name": "ipython",
    "version": 3
   },
   "file_extension": ".py",
   "mimetype": "text/x-python",
   "name": "python",
   "nbconvert_exporter": "python",
   "pygments_lexer": "ipython3",
   "version": "3.6.3"
  }
 },
 "nbformat": 4,
 "nbformat_minor": 2
}
